{
 "cells": [
  {
   "cell_type": "code",
   "execution_count": 1,
   "metadata": {},
   "outputs": [],
   "source": [
    "import os\n",
    "from Dataset.DataInput import databuilder as db\n",
    "from pyhdf.SD  import *\n",
    "import numpy as np\n",
    "from Utility.utils import utilityfunctions as uf\n",
    "import matplotlib.pyplot as plt\n",
    "import tensorflow as tf"
   ]
  },
  {
   "cell_type": "markdown",
   "metadata": {},
   "source": [
    "# Read , Re-assemble, Re-create patch and Re-scale from the images"
   ]
  },
  {
   "cell_type": "code",
   "execution_count": 2,
   "metadata": {},
   "outputs": [
    {
     "name": "stdout",
     "output_type": "stream",
     "text": [
      "Data is read, Shape of the data is:\n",
      "\n",
      "--  (20, 141, 128, 110, 1)             ----->   05:55:12   <-----\n",
      "Intresting frames have been selected the shape of the selected data is :\n",
      "\n",
      "--  (20, 11, 128, 110, 1)             ----->   05:55:12   <-----\n",
      "Patched have been created from the data and the final shape is  :\n",
      "\n",
      "--  (17820, 11, 32, 32, 1)             ----->   05:55:13   <-----\n",
      "Data have been Scaled on Min Max Scale:\n",
      "\n",
      "--  (17820, 11, 32, 32, 1)             ----->   05:55:15   <-----\n"
     ]
    }
   ],
   "source": [
    "\n",
    "count=20 #input(\"Number of files to read in (default= all (95)): \")\n",
    "path=os.getcwd()+\"/Dataset/Data/br002_file/\"\n",
    "\n",
    "data=db.readfile(path,int(count))          # read the file\n",
    "new_data=db.getIntrestingFrames(data)      # Select first 10 and last 1 frame\n",
    "patched_data=db.createPatchyData(new_data,(32,32),(3,3)) # Divind t\n",
    "data_final=db.apply_min_max_scaling(patched_data)"
   ]
  },
  {
   "cell_type": "markdown",
   "metadata": {},
   "source": [
    "# Training Model with Generator"
   ]
  },
  {
   "cell_type": "code",
   "execution_count": 3,
   "metadata": {},
   "outputs": [],
   "source": [
    "from Models.TrainingModels.ModelConvLSTM import ModelConvLSTM as md"
   ]
  },
  {
   "cell_type": "code",
   "execution_count": null,
   "metadata": {},
   "outputs": [
    {
     "name": "stdout",
     "output_type": "stream",
     "text": [
      "Model: \"sequential\"\n",
      "_________________________________________________________________\n",
      "Layer (type)                 Output Shape              Param #   \n",
      "=================================================================\n",
      "conv_lst_m2d (ConvLSTM2D)    (None, None, 32, 32, 64)  815616    \n",
      "_________________________________________________________________\n",
      "batch_normalization (BatchNo (None, None, 32, 32, 64)  256       \n",
      "_________________________________________________________________\n",
      "conv_lst_m2d_1 (ConvLSTM2D)  (None, None, 32, 32, 32)  602240    \n",
      "_________________________________________________________________\n",
      "batch_normalization_1 (Batch (None, None, 32, 32, 32)  128       \n",
      "_________________________________________________________________\n",
      "conv_lst_m2d_2 (ConvLSTM2D)  (None, None, 32, 32, 32)  401536    \n",
      "_________________________________________________________________\n",
      "batch_normalization_2 (Batch (None, None, 32, 32, 32)  128       \n",
      "_________________________________________________________________\n",
      "conv_lst_m2d_3 (ConvLSTM2D)  (None, None, 32, 32, 32)  401536    \n",
      "_________________________________________________________________\n",
      "batch_normalization_3 (Batch (None, None, 32, 32, 32)  128       \n",
      "_________________________________________________________________\n",
      "conv3d (Conv3D)              (None, None, 32, 32, 1)   33        \n",
      "=================================================================\n",
      "Total params: 2,221,601\n",
      "Trainable params: 2,221,281\n",
      "Non-trainable params: 320\n",
      "_________________________________________________________________\n",
      "None\n",
      "WARNING:tensorflow:`period` argument is deprecated. Please use `save_freq` to specify the frequency in number of batches seen.\n",
      "Epoch 1/10\n",
      "1052/1052 [==============================] - 574s 546ms/step - loss: 17034.4707 - val_loss: 16990.0723\n",
      "Epoch 2/10\n",
      " 952/1052 [==========================>...] - ETA: 54s - loss: 17070.6934"
     ]
    }
   ],
   "source": [
    "ignoreself=1\n",
    "md.train(data_final)"
   ]
  },
  {
   "cell_type": "code",
   "execution_count": null,
   "metadata": {},
   "outputs": [],
   "source": []
  },
  {
   "cell_type": "code",
   "execution_count": null,
   "metadata": {},
   "outputs": [],
   "source": []
  },
  {
   "cell_type": "code",
   "execution_count": null,
   "metadata": {},
   "outputs": [],
   "source": []
  }
 ],
 "metadata": {
  "kernelspec": {
   "display_name": "Python 3",
   "language": "python",
   "name": "python3"
  },
  "language_info": {
   "codemirror_mode": {
    "name": "ipython",
    "version": 3
   },
   "file_extension": ".py",
   "mimetype": "text/x-python",
   "name": "python",
   "nbconvert_exporter": "python",
   "pygments_lexer": "ipython3",
   "version": "3.7.3"
  }
 },
 "nbformat": 4,
 "nbformat_minor": 4
}
